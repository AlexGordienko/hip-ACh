{
 "cells": [
  {
   "cell_type": "code",
   "execution_count": 64,
   "metadata": {},
   "outputs": [
    {
     "name": "stdout",
     "output_type": "stream",
     "text": [
      "1.0 0.0\n",
      "1.0 0.0\n",
      "1.0 0.0\n",
      "1.0 0.0\n",
      "1.0 0.0\n"
     ]
    },
    {
     "data": {
      "image/png": "[encoded data removed]",
      "text/plain": [
       "<Figure size 432x288 with 1 Axes>"
      ]
     },
     "metadata": {
      "needs_background": "light"
     },
     "output_type": "display_data"
    }
   ],
   "source": [
    "import numpy as np\n",
    "import pandas as pd\n",
    "import scipy.stats\n",
    "import matplotlib\n",
    "import matplotlib.pyplot as plt\n",
    "\n",
    "# start off by reading in values from CSV\n",
    "# df = pd.read_csv('../100%/session_100percent.csv')\n",
    "# df = pd.read_csv('../40%/session_40percent.csv')\n",
    "df = pd.read_csv('../0%/session_0percent.csv')\n",
    "\n",
    "df_rows = df[df.columns[0]].count()\n",
    "# print(df_rows)\n",
    "# print(df[:df_rows])\n",
    "\n",
    "# extract sub-regions into 2D arrays [[trial1], [trial2], ...]\n",
    "ec_in = []\n",
    "ec_out = []\n",
    "dg = []\n",
    "ca3 = []\n",
    "ca1 = []\n",
    "\n",
    "allvals = df.to_numpy()\n",
    "for i in range(df_rows):\n",
    "    curr_row = allvals[i]\n",
    "    ec_in.append(curr_row[4:148])\n",
    "    ec_out.append(curr_row[149:293])\n",
    "    dg.append(curr_row[294:919])\n",
    "    ca3.append(curr_row[920:1220])\n",
    "    ca1.append(curr_row[1221:1710])\n",
    "\n",
    "# ec_in_r, ec_in_p = scipy.stats.pearsonr(ec_in[0], ec_in[1])\n",
    "# ec_out_r, ec_out_p = scipy.stats.pearsonr(ec_out[0], ec_out[1])\n",
    "# dg_r, dg_p = scipy.stats.pearsonr(dg[0], dg[1])\n",
    "# ca3_r, ca3_p = scipy.stats.pearsonr(ca3[0], ca3[1])\n",
    "# ca1_r, ca1_p = scipy.stats.pearsonr(ca1[0], ca1[1])\n",
    "\n",
    "ec_in_r, ec_in_p = scipy.stats.spearmanr(ec_in[0], ec_in[1])\n",
    "ec_out_r, ec_out_p = scipy.stats.spearmanr(ec_out[0], ec_out[1])\n",
    "dg_r, dg_p = scipy.stats.spearmanr(dg[0], dg[1])\n",
    "ca3_r, ca3_p = scipy.stats.spearmanr(ca3[0], ca3[1])\n",
    "ca1_r, ca1_p = scipy.stats.spearmanr(ca1[0], ca1[1])\n",
    "print(ec_in_r, ec_in_p)\n",
    "print(ec_out_r, ec_out_p)\n",
    "print(dg_r, dg_p)\n",
    "print(ca3_r, ca3_p)\n",
    "print(ca1_r, ca1_p)\n",
    "\n",
    "\n",
    "# correlation_coefficients_0 = [1.0, 0.999, 1.0, 0.999, 0.999]\n",
    "# correlation_coefficients_40 = [0.625, 0.760, 0.666, 0.856, 0.726]\n",
    "# # high p-values!!\n",
    "# correlation_coefficients_100 = [-0.275, 0.136, -0.020, -0.046, 0.137]\n",
    "\n",
    "correlation_coefficients_0 = [1.0, 1.0, 1.0, 1.0, 1.0]\n",
    "correlation_coefficients_40 = [0.789, 0.888, 0.644, 0.623, 0.846]\n",
    "# high p-values!!\n",
    "correlation_coefficients_100 = [-0.004, 0.250, -0.268, -0.044, 0.200]\n",
    "\n",
    "labels = ['0% simi', '40%', '100%']\n",
    "ec_in_corrs = [correlation_coefficients_0[0], correlation_coefficients_40[0], correlation_coefficients_100[0]]\n",
    "ec_out_corrs = [correlation_coefficients_0[1], correlation_coefficients_40[1], correlation_coefficients_100[1]]\n",
    "dg_corrs = [correlation_coefficients_0[2], correlation_coefficients_40[2], correlation_coefficients_100[2]]\n",
    "ca3_corrs = [correlation_coefficients_0[3], correlation_coefficients_40[3], correlation_coefficients_100[3]]\n",
    "ca1_corrs = [correlation_coefficients_0[4], correlation_coefficients_40[4], correlation_coefficients_100[4]]\n",
    "\n",
    "x = np.arange(len(labels))  # the label locations\n",
    "width = 0.45  # the width of the bars\n",
    "\n",
    "fig, ax = plt.subplots()\n",
    "rects1 = ax.bar(x - width/5, ec_in_corrs, width/5, label='EC In')\n",
    "rects2 = ax.bar(x - (2*width)/5, ec_out_corrs, width/5, label='EC Out')\n",
    "rects3 = ax.bar(x + (width)/5, dg_corrs, width/5, label='DG')\n",
    "rects4 = ax.bar(x + (2*width)/5, ca3_corrs, width/5, label='CA3')\n",
    "rects5 = ax.bar(x, ca1_corrs, width/5, label='CA1')\n",
    "\n",
    "# Add some text for labels, title and custom x-axis tick labels, etc.\n",
    "ax.set_ylabel('Correlation Values')\n",
    "ax.set_title('input similarity vs subregion correlation between trials')\n",
    "ax.set_xticks(x)\n",
    "ax.set_xticklabels(labels)\n",
    "ax.legend()\n",
    "\n",
    "\n",
    "def autolabel(rects):\n",
    "    \"\"\"Attach a text label above each bar in *rects*, displaying its height.\"\"\"\n",
    "    for rect in rects:\n",
    "        height = rect.get_height()\n",
    "        ax.annotate('{}'.format(height),\n",
    "                    xy=(rect.get_x() + rect.get_width() / 5, height),\n",
    "                    xytext=(0, 3),  # 3 points vertical offset\n",
    "                    textcoords=\"offset points\",\n",
    "                    ha='center', va='bottom')\n",
    "\n",
    "\n",
    "autolabel(rects1)\n",
    "autolabel(rects2)\n",
    "autolabel(rects3)\n",
    "autolabel(rects4)\n",
    "autolabel(rects5)\n",
    "\n",
    "fig.tight_layout()\n",
    "\n",
    "# plt.show()"
   ]
  },
  {
   "cell_type": "code",
   "execution_count": null,
   "metadata": {},
   "outputs": [],
   "source": []
  },
  {
   "cell_type": "code",
   "execution_count": null,
   "metadata": {},
   "outputs": [],
   "source": []
  }
 ],
 "metadata": {
  "kernelspec": {
   "display_name": "Python 3",
   "language": "python",
   "name": "python3"
  },
  "language_info": {
   "codemirror_mode": {
    "name": "ipython",
    "version": 3
   },
   "file_extension": ".py",
   "mimetype": "text/x-python",
   "name": "python",
   "nbconvert_exporter": "python",
   "pygments_lexer": "ipython3",
   "version": "3.7.4"
  }
 },
 "nbformat": 4,
 "nbformat_minor": 2
}
